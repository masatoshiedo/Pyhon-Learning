{
  "nbformat": 4,
  "nbformat_minor": 0,
  "metadata": {
    "colab": {
      "name": "入門_Section5.ipynb",
      "version": "0.3.2",
      "provenance": [],
      "include_colab_link": true
    },
    "kernelspec": {
      "name": "python3",
      "display_name": "Python 3"
    }
  },
  "cells": [
    {
      "cell_type": "markdown",
      "metadata": {
        "id": "view-in-github",
        "colab_type": "text"
      },
      "source": [
        "<a href=\"https://colab.research.google.com/github/masatoshiedo/Python-Learning/blob/master/%E5%85%A5%E9%96%80_Section5.ipynb\" target=\"_parent\"><img src=\"https://colab.research.google.com/assets/colab-badge.svg\" alt=\"Open In Colab\"/></a>"
      ]
    },
    {
      "cell_type": "markdown",
      "metadata": {
        "id": "EbYsXpagDDj0",
        "colab_type": "text"
      },
      "source": [
        "#Chapter 5"
      ]
    },
    {
      "cell_type": "markdown",
      "metadata": {
        "id": "EvkrUauSKTbo",
        "colab_type": "text"
      },
      "source": [
        "\n",
        "\n",
        "> **5**-**1**\n",
        "\n"
      ]
    },
    {
      "cell_type": "code",
      "metadata": {
        "id": "3DZaHqsEDVQY",
        "colab_type": "code",
        "outputId": "8afae95e-32d8-43b2-b9ef-80854e0be0df",
        "colab": {
          "base_uri": "https://localhost:8080/",
          "height": 71
        }
      },
      "source": [
        "sum=50+37+10\n",
        "limit=100\n",
        "if sum>=limit:\n",
        "  result=\"合格\"\n",
        "else:\n",
        "  result = \"不合格\"\n",
        "  result += \"/\"+str(sum-limit)\n",
        "\n",
        "print(sum) #合計点\n",
        "print(\"-\"*20) #区切り線\n",
        "print(result) #判定結果"
      ],
      "execution_count": 0,
      "outputs": [
        {
          "output_type": "stream",
          "text": [
            "97\n",
            "--------------------\n",
            "不合格/-3\n"
          ],
          "name": "stdout"
        }
      ]
    },
    {
      "cell_type": "code",
      "metadata": {
        "id": "MO-kpP7GG_SA",
        "colab_type": "code",
        "colab": {}
      },
      "source": [
        "#randomモジュールのrandint関数を読み込む\n",
        "from random import randint\n",
        "point = randint(0,100) #0〜100の乱数\n",
        "#判定\n",
        "if point >= 80:\n",
        "  result = \"Aクラス\"\n",
        "elif point >= 60:\n",
        "  result = \"Bクラス\"\n",
        "elif point >=30:\n",
        "  result = \"Cクラス\"\n",
        "else:\n",
        "  result = \"不合格\"\n",
        "\n",
        "print(f\"{point}点:{result}\")"
      ],
      "execution_count": 0,
      "outputs": []
    },
    {
      "cell_type": "code",
      "metadata": {
        "id": "QNb8LC0lKuZj",
        "colab_type": "code",
        "outputId": "f75abfb4-8743-4831-989e-b34cad03e206",
        "colab": {
          "base_uri": "https://localhost:8080/",
          "height": 35
        }
      },
      "source": [
        "#randomモジュールのrandint関数の読み込み\n",
        "from random import randint\n",
        "size = randint(5,20)\n",
        "weight = randint(20,40)\n",
        "if size >= 10:\n",
        "  if weight >= 25:\n",
        "    result = \"合格\"\n",
        "  else:\n",
        "    result = \"不合格\"\n",
        "else:\n",
        "  result = \"不合格\"\n",
        "\n",
        "text = f\"サイズ{size}、重量{weight}：{result}\"\n",
        "print(text)"
      ],
      "execution_count": 0,
      "outputs": [
        {
          "output_type": "stream",
          "text": [
            "サイズ13、重量31：合格\n"
          ],
          "name": "stdout"
        }
      ]
    }
  ]
}